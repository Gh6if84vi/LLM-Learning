{
  "cells": [
    {
      "cell_type": "markdown",
      "metadata": {
        "id": "view-in-github",
        "colab_type": "text"
      },
      "source": [
        "<a href=\"https://colab.research.google.com/github/Gh6if84vi/LLM-Learning/blob/main/Token_Embeddings.ipynb\" target=\"_parent\"><img src=\"https://colab.research.google.com/assets/colab-badge.svg\" alt=\"Open In Colab\"/></a>"
      ]
    },
    {
      "cell_type": "markdown",
      "metadata": {
        "id": "JjGw-jxKey6X"
      },
      "source": [
        "## Reading in a short story as text sample into Python."
      ]
    },
    {
      "cell_type": "markdown",
      "metadata": {
        "id": "hXxyyzFsey6b"
      },
      "source": [
        "## Step 1: Creating Tokens"
      ]
    },
    {
      "cell_type": "markdown",
      "metadata": {
        "id": "G_rgFvsDey6c"
      },
      "source": [
        "<div class=\"alert alert-block alert-success\">\n",
        "\n",
        "The print command prints the total number of characters followed by the first 100\n",
        "characters of this file for illustration purposes. </div>"
      ]
    },
    {
      "cell_type": "code",
      "execution_count": null,
      "metadata": {
        "id": "zdVi024Sey6e",
        "outputId": "b6666280-cd8f-4ec2-e630-178e2a2ae3c6"
      },
      "outputs": [
        {
          "name": "stdout",
          "output_type": "stream",
          "text": [
            "Total number of character: 20479\n",
            "I HAD always thought Jack Gisburn rather a cheap genius--though a good fellow enough--so it was no \n"
          ]
        }
      ],
      "source": [
        "with open(\"the-verdict.txt\", \"r\", encoding=\"utf-8\") as f:\n",
        "    raw_text = f.read()\n",
        "\n",
        "print(\"Total number of character:\", len(raw_text))\n",
        "print(raw_text[:99])"
      ]
    },
    {
      "cell_type": "markdown",
      "metadata": {
        "id": "t5wlobt-ey6g"
      },
      "source": [
        "<div class=\"alert alert-block alert-success\">\n",
        "\n",
        "Our goal is to tokenize this 20,479-character short story into individual words and special\n",
        "characters that we can then turn into embeddings for LLM training  </div>"
      ]
    },
    {
      "cell_type": "markdown",
      "metadata": {
        "id": "gSTxITN5ey6h"
      },
      "source": [
        "<div class=\"alert alert-block alert-warning\">\n",
        "\n",
        "Note that it's common to process millions of articles and hundreds of thousands of\n",
        "books -- many gigabytes of text -- when working with LLMs. However, for educational\n",
        "purposes, it's sufficient to work with smaller text samples like a single book to\n",
        "illustrate the main ideas behind the text processing steps and to make it possible to\n",
        "run it in reasonable time on consumer hardware. </div>"
      ]
    },
    {
      "cell_type": "markdown",
      "metadata": {
        "id": "tgMfIi6-ey6i"
      },
      "source": [
        "<div class=\"alert alert-block alert-success\">\n",
        "\n",
        "How can we best split this text to obtain a list of tokens? For this, we go on a small\n",
        "excursion and use Python's regular expression library re for illustration purposes. (Note\n",
        "that you don't have to learn or memorize any regular expression syntax since we will\n",
        "transition to a pre-built tokenizer later in this chapter.) </div>"
      ]
    },
    {
      "cell_type": "markdown",
      "metadata": {
        "id": "TgAA6nKhey6j"
      },
      "source": [
        "<div class=\"alert alert-block alert-warning\">\n",
        "\n",
        "Using some simple example text, we can use the re.split command with the following\n",
        "syntax to split a text on whitespace characters:</div>"
      ]
    },
    {
      "cell_type": "code",
      "execution_count": null,
      "metadata": {
        "id": "Dg88Nm96ey6k",
        "outputId": "b49bcff8-9176-4c9d-c4af-eb589249dc5a"
      },
      "outputs": [
        {
          "name": "stdout",
          "output_type": "stream",
          "text": [
            "['Hello,', ' ', 'world.', ' ', 'This,', ' ', 'is', ' ', 'a', ' ', 'test.']\n"
          ]
        }
      ],
      "source": [
        "import re\n",
        "\n",
        "text = \"Hello, world. This, is a test.\"\n",
        "result = re.split(r'(\\s)', text)\n",
        "\n",
        "print(result)"
      ]
    },
    {
      "cell_type": "markdown",
      "metadata": {
        "id": "JR4bqUqzey6l"
      },
      "source": [
        "<div class=\"alert alert-block alert-info\">\n",
        "The result is a list of individual words, whitespaces, and punctuation characters:\n",
        "</div>\n"
      ]
    },
    {
      "cell_type": "markdown",
      "metadata": {
        "id": "Dc9zxR2uey6l"
      },
      "source": [
        "<div class=\"alert alert-block alert-warning\">\n",
        "\n",
        "Let's modify the regular expression splits on whitespaces (\\s) and commas, and periods\n",
        "([,.]):</div>"
      ]
    },
    {
      "cell_type": "code",
      "execution_count": null,
      "metadata": {
        "id": "HjEs26v1ey6m",
        "outputId": "3f2edb67-a62b-4777-c898-829bffaacb55"
      },
      "outputs": [
        {
          "name": "stdout",
          "output_type": "stream",
          "text": [
            "['Hello', ',', '', ' ', 'world', '.', '', ' ', 'This', ',', '', ' ', 'is', ' ', 'a', ' ', 'test', '.', '']\n"
          ]
        }
      ],
      "source": [
        "result = re.split(r'([,.]|\\s)', text)\n",
        "\n",
        "print(result)"
      ]
    },
    {
      "cell_type": "markdown",
      "metadata": {
        "id": "ONlahfNVey6m"
      },
      "source": [
        "<div class=\"alert alert-block alert-info\">\n",
        "We can see that the words and punctuation characters are now separate list entries just as\n",
        "we wanted\n",
        "</div>\n"
      ]
    },
    {
      "cell_type": "markdown",
      "metadata": {
        "id": "OyvE8CPPey6m"
      },
      "source": [
        "<div class=\"alert alert-block alert-warning\">\n",
        "\n",
        "A small remaining issue is that the list still includes whitespace characters. Optionally, we\n",
        "can remove these redundant characters safely as follows:</div>"
      ]
    },
    {
      "cell_type": "code",
      "execution_count": null,
      "metadata": {
        "id": "VE7pe9-Hey6n",
        "outputId": "3ace3743-bf98-4cb2-c41a-83d10fcac85d"
      },
      "outputs": [
        {
          "name": "stdout",
          "output_type": "stream",
          "text": [
            "['Hello', ',', 'world', '.', 'This', ',', 'is', 'a', 'test', '.']\n"
          ]
        }
      ],
      "source": [
        "result = [item for item in result if item.strip()]\n",
        "print(result)"
      ]
    },
    {
      "cell_type": "markdown",
      "metadata": {
        "id": "HGLwc_eLey6o"
      },
      "source": [
        "<div class=\"alert alert-block alert-success\">\n",
        "\n",
        "REMOVING WHITESPACES OR NOT\n",
        "\n",
        "\n",
        "When developing a simple tokenizer, whether we should encode whitespaces as\n",
        "separate characters or just remove them depends on our application and its\n",
        "requirements. Removing whitespaces reduces the memory and computing\n",
        "requirements. However, keeping whitespaces can be useful if we train models that\n",
        "are sensitive to the exact structure of the text (for example, Python code, which is\n",
        "sensitive to indentation and spacing). Here, we remove whitespaces for simplicity\n",
        "and brevity of the tokenized outputs. Later, we will switch to a tokenization scheme\n",
        "that includes whitespaces.\n",
        "\n",
        "</div>"
      ]
    },
    {
      "cell_type": "markdown",
      "metadata": {
        "id": "jHZkVXOJey6o"
      },
      "source": [
        "<div class=\"alert alert-block alert-warning\">\n",
        "\n",
        "The tokenization scheme we devised above works well on the simple sample text. Let's\n",
        "modify it a bit further so that it can also handle other types of punctuation, such as\n",
        "question marks, quotation marks, and the double-dashes we have seen earlier in the first\n",
        "100 characters of Edith Wharton's short story, along with additional special characters: </div>"
      ]
    },
    {
      "cell_type": "code",
      "execution_count": null,
      "metadata": {
        "id": "GuUt6NL3ey6o",
        "outputId": "f88fde4c-6989-4767-ff30-e2a433d50575"
      },
      "outputs": [
        {
          "name": "stdout",
          "output_type": "stream",
          "text": [
            "['Hello', ',', 'world', '.', 'Is', 'this', '--', 'a', 'test', '?']\n"
          ]
        }
      ],
      "source": [
        "text = \"Hello, world. Is this-- a test?\"\n",
        "result = re.split(r'([,.:;?_!\"()\\']|--|\\s)', text)\n",
        "result = [item.strip() for item in result if item.strip()]\n",
        "print(result)"
      ]
    },
    {
      "cell_type": "code",
      "execution_count": null,
      "metadata": {
        "id": "RYGr3jYAey6p",
        "outputId": "d27cfc4c-4196-4775-c6d1-d9468aab26d7"
      },
      "outputs": [
        {
          "name": "stdout",
          "output_type": "stream",
          "text": [
            "['Hello', ',', 'world', '.', 'Is', 'this', '--', 'a', 'test', '?']\n"
          ]
        }
      ],
      "source": [
        "# Strip whitespace from each item and then filter out any empty strings.\n",
        "result = [item for item in result if item.strip()]\n",
        "print(result)"
      ]
    },
    {
      "cell_type": "code",
      "execution_count": null,
      "metadata": {
        "id": "qFHGJM8Zey6p",
        "outputId": "0ef9d45e-c40b-467b-f651-dbc9300c0235"
      },
      "outputs": [
        {
          "name": "stdout",
          "output_type": "stream",
          "text": [
            "['Hello', ',', 'world', '.', 'Is', 'this', '--', 'a', 'test', '?']\n"
          ]
        }
      ],
      "source": [
        "text = \"Hello, world. Is this-- a test?\"\n",
        "\n",
        "result = re.split(r'([,.:;?_!\"()\\']|--|\\s)', text)\n",
        "result = [item.strip() for item in result if item.strip()]\n",
        "print(result)"
      ]
    },
    {
      "cell_type": "markdown",
      "metadata": {
        "id": "dCQqRXyNey6p"
      },
      "source": [
        "<div class=\"alert alert-block alert-success\">\n",
        "\n",
        "Now that we got a basic tokenizer working, let's apply it to Edith Wharton's entire short\n",
        "story:\n",
        "\n",
        "</div>"
      ]
    },
    {
      "cell_type": "code",
      "execution_count": null,
      "metadata": {
        "id": "aUdUL3UUey6p",
        "outputId": "662e62f7-d3df-4f48-e704-2e597e7f99b2"
      },
      "outputs": [
        {
          "name": "stdout",
          "output_type": "stream",
          "text": [
            "['I', 'HAD', 'always', 'thought', 'Jack', 'Gisburn', 'rather', 'a', 'cheap', 'genius', '--', 'though', 'a', 'good', 'fellow', 'enough', '--', 'so', 'it', 'was', 'no', 'great', 'surprise', 'to', 'me', 'to', 'hear', 'that', ',', 'in']\n"
          ]
        }
      ],
      "source": [
        "preprocessed = re.split(r'([,.:;?_!\"()\\']|--|\\s)', raw_text)\n",
        "preprocessed = [item.strip() for item in preprocessed if item.strip()]\n",
        "print(preprocessed[:30])"
      ]
    },
    {
      "cell_type": "code",
      "execution_count": null,
      "metadata": {
        "id": "9070fy6vey6p",
        "outputId": "8ee8ddd8-65be-408b-b838-450f7e048328"
      },
      "outputs": [
        {
          "name": "stdout",
          "output_type": "stream",
          "text": [
            "4690\n"
          ]
        }
      ],
      "source": [
        "print(len(preprocessed))\n"
      ]
    },
    {
      "cell_type": "markdown",
      "metadata": {
        "id": "3t94scGKey6q"
      },
      "source": [
        "## Step 2: Creating Token IDs"
      ]
    },
    {
      "cell_type": "markdown",
      "metadata": {
        "id": "ctQqgDd0ey6q"
      },
      "source": [
        "<div class=\"alert alert-block alert-warning\">\n",
        "\n",
        "In the previous section, we tokenized Edith Wharton's short story and assigned it to a\n",
        "Python variable called preprocessed. Let's now create a list of all unique tokens and sort\n",
        "them alphabetically to determine the vocabulary size:</div>"
      ]
    },
    {
      "cell_type": "code",
      "execution_count": null,
      "metadata": {
        "id": "9n1cbidVey6q",
        "outputId": "1e1eff2a-3721-4af4-a987-c548b8c726ac"
      },
      "outputs": [
        {
          "name": "stdout",
          "output_type": "stream",
          "text": [
            "1130\n"
          ]
        }
      ],
      "source": [
        "all_words = sorted(set(preprocessed))\n",
        "vocab_size = len(all_words)\n",
        "\n",
        "print(vocab_size)"
      ]
    },
    {
      "cell_type": "markdown",
      "metadata": {
        "id": "T-ZHcO2Pey6q"
      },
      "source": [
        "<div class=\"alert alert-block alert-success\">\n",
        "\n",
        "After determining that the vocabulary size is 1,130 via the above code, we create the\n",
        "vocabulary and print its first 51 entries for illustration purposes:\n",
        "\n",
        "</div>"
      ]
    },
    {
      "cell_type": "code",
      "execution_count": null,
      "metadata": {
        "id": "-MF0p_czey6q"
      },
      "outputs": [],
      "source": [
        "vocab = {token:integer for integer,token in enumerate(all_words)}\n"
      ]
    },
    {
      "cell_type": "code",
      "execution_count": null,
      "metadata": {
        "id": "Fjl4Giimey6r",
        "outputId": "39383e8c-78dc-4a65-dc5f-1b89670d2eb8"
      },
      "outputs": [
        {
          "name": "stdout",
          "output_type": "stream",
          "text": [
            "('!', 0)\n",
            "('\"', 1)\n",
            "(\"'\", 2)\n",
            "('(', 3)\n",
            "(')', 4)\n",
            "(',', 5)\n",
            "('--', 6)\n",
            "('.', 7)\n",
            "(':', 8)\n",
            "(';', 9)\n",
            "('?', 10)\n",
            "('A', 11)\n",
            "('Ah', 12)\n",
            "('Among', 13)\n",
            "('And', 14)\n",
            "('Are', 15)\n",
            "('Arrt', 16)\n",
            "('As', 17)\n",
            "('At', 18)\n",
            "('Be', 19)\n",
            "('Begin', 20)\n",
            "('Burlington', 21)\n",
            "('But', 22)\n",
            "('By', 23)\n",
            "('Carlo', 24)\n",
            "('Chicago', 25)\n",
            "('Claude', 26)\n",
            "('Come', 27)\n",
            "('Croft', 28)\n",
            "('Destroyed', 29)\n",
            "('Devonshire', 30)\n",
            "('Don', 31)\n",
            "('Dubarry', 32)\n",
            "('Emperors', 33)\n",
            "('Florence', 34)\n",
            "('For', 35)\n",
            "('Gallery', 36)\n",
            "('Gideon', 37)\n",
            "('Gisburn', 38)\n",
            "('Gisburns', 39)\n",
            "('Grafton', 40)\n",
            "('Greek', 41)\n",
            "('Grindle', 42)\n",
            "('Grindles', 43)\n",
            "('HAD', 44)\n",
            "('Had', 45)\n",
            "('Hang', 46)\n",
            "('Has', 47)\n",
            "('He', 48)\n",
            "('Her', 49)\n",
            "('Hermia', 50)\n"
          ]
        }
      ],
      "source": [
        "for i, item in enumerate(vocab.items()):\n",
        "    print(item)\n",
        "    if i >= 50:\n",
        "        break"
      ]
    },
    {
      "cell_type": "markdown",
      "metadata": {
        "id": "wrTL1Egrey6r"
      },
      "source": [
        "<div class=\"alert alert-block alert-info\">\n",
        "As we can see, based on the output above, the dictionary contains individual tokens\n",
        "associated with unique integer labels.\n",
        "</div>"
      ]
    },
    {
      "cell_type": "markdown",
      "metadata": {
        "id": "ECy4plpmey6r"
      },
      "source": [
        "<div class=\"alert alert-block alert-success\">\n",
        "\n",
        "Later in this book, when we want to convert the outputs of an LLM from numbers back into\n",
        "text, we also need a way to turn token IDs into text.\n",
        "\n",
        "For this, we can create an inverse\n",
        "version of the vocabulary that maps token IDs back to corresponding text tokens.\n",
        "\n",
        "</div>"
      ]
    },
    {
      "cell_type": "markdown",
      "metadata": {
        "id": "0yaoyhdSey6r"
      },
      "source": [
        "<div class=\"alert alert-block alert-success\">\n",
        "\n",
        "Let's implement a complete tokenizer class in Python.\n",
        "\n",
        "The class will have an encode method that splits\n",
        "text into tokens and carries out the string-to-integer mapping to produce token IDs via the\n",
        "vocabulary.\n",
        "\n",
        "In addition, we implement a decode method that carries out the reverse\n",
        "integer-to-string mapping to convert the token IDs back into text.\n",
        "\n",
        "</div>"
      ]
    },
    {
      "cell_type": "markdown",
      "metadata": {
        "id": "R3mV02uFey6r"
      },
      "source": [
        "<div class=\"alert alert-block alert-info\">\n",
        "    \n",
        "Step 1: Store the vocabulary as a class attribute for access in the encode and decode methods\n",
        "    \n",
        "Step 2: Create an inverse vocabulary that maps token IDs back to the original text tokens\n",
        "\n",
        "Step 3: Process input text into token IDs\n",
        "\n",
        "Step 4: Convert token IDs back into text\n",
        "\n",
        "Step 5: Replace spaces before the specified punctuation\n",
        "\n",
        "</div>\n",
        "\n"
      ]
    },
    {
      "cell_type": "code",
      "execution_count": null,
      "metadata": {
        "id": "bhmtCzn2ey6r"
      },
      "outputs": [],
      "source": [
        "class SimpleTokenizerV1:\n",
        "    def __init__(self, vocab):\n",
        "        self.str_to_int = vocab\n",
        "        self.int_to_str = {i:s for s,i in vocab.items()}\n",
        "\n",
        "    def encode(self, text):\n",
        "        preprocessed = re.split(r'([,.:;?_!\"()\\']|--|\\s)', text)\n",
        "\n",
        "        preprocessed = [\n",
        "            item.strip() for item in preprocessed if item.strip()\n",
        "        ]\n",
        "        ids = [self.str_to_int[s] for s in preprocessed]\n",
        "        return ids\n",
        "\n",
        "    def decode(self, ids):\n",
        "        text = \" \".join([self.int_to_str[i] for i in ids])\n",
        "        # Replace spaces before the specified punctuations\n",
        "        text = re.sub(r'\\s+([,.?!\"()\\'])', r'\\1', text)\n",
        "        return text"
      ]
    },
    {
      "cell_type": "markdown",
      "metadata": {
        "id": "85oab0j-ey6s"
      },
      "source": [
        "<div class=\"alert alert-block alert-success\">\n",
        "\n",
        "Let's instantiate a new tokenizer object from the SimpleTokenizerV1 class and tokenize a\n",
        "passage from Edith Wharton's short story to try it out in practice:\n",
        "</div>"
      ]
    },
    {
      "cell_type": "code",
      "execution_count": null,
      "metadata": {
        "id": "QoP1nsRley6s",
        "outputId": "bbb6adcb-98ca-40f3-ff07-04db8f8c88d2"
      },
      "outputs": [
        {
          "name": "stdout",
          "output_type": "stream",
          "text": [
            "[1, 56, 2, 850, 988, 602, 533, 746, 5, 1126, 596, 5, 1, 67, 7, 38, 851, 1108, 754, 793, 7]\n"
          ]
        }
      ],
      "source": [
        "tokenizer = SimpleTokenizerV1(vocab)\n",
        "\n",
        "text = \"\"\"\"It's the last he painted, you know,\"\n",
        "           Mrs. Gisburn said with pardonable pride.\"\"\"\n",
        "ids = tokenizer.encode(text)\n",
        "print(ids)"
      ]
    },
    {
      "cell_type": "markdown",
      "metadata": {
        "id": "v-9Zovloey6s"
      },
      "source": [
        "<div class=\"alert alert-block alert-info\">\n",
        "    \n",
        "The code above prints the following token IDs:\n",
        "Next, let's see if we can turn these token IDs back into text using the decode method:\n",
        "</div>"
      ]
    },
    {
      "cell_type": "code",
      "execution_count": null,
      "metadata": {
        "id": "Gbwf1fG-ey6s",
        "outputId": "8a1e41b5-aa42-4d95-8fec-f02cda8c1c61"
      },
      "outputs": [
        {
          "data": {
            "text/plain": [
              "'\" It\\' s the last he painted, you know,\" Mrs. Gisburn said with pardonable pride.'"
            ]
          },
          "execution_count": 91,
          "metadata": {},
          "output_type": "execute_result"
        }
      ],
      "source": [
        "tokenizer.decode(ids)\n"
      ]
    },
    {
      "cell_type": "markdown",
      "metadata": {
        "id": "LGBJp4dJey6s"
      },
      "source": [
        "<div class=\"alert alert-block alert-info\">\n",
        "    \n",
        "Based on the output above, we can see that the decode method successfully converted the\n",
        "token IDs back into the original text.\n",
        "</div>"
      ]
    },
    {
      "cell_type": "markdown",
      "metadata": {
        "id": "Ynov0lMTey6x"
      },
      "source": [
        "<div class=\"alert alert-block alert-success\">\n",
        "\n",
        "So far, so good. We implemented a tokenizer capable of tokenizing and de-tokenizing\n",
        "text based on a snippet from the training set.\n",
        "\n",
        "Let's now apply it to a new text sample that\n",
        "is not contained in the training set:\n",
        "</div>"
      ]
    },
    {
      "cell_type": "code",
      "execution_count": null,
      "metadata": {
        "id": "JcwyW68wey6x",
        "outputId": "4aac5051-c259-438c-d0b7-a3ebd71611dd"
      },
      "outputs": [
        {
          "ename": "KeyError",
          "evalue": "'Hello'",
          "output_type": "error",
          "traceback": [
            "\u001b[0;31m---------------------------------------------------------------------------\u001b[0m",
            "\u001b[0;31mKeyError\u001b[0m                                  Traceback (most recent call last)",
            "Cell \u001b[0;32mIn[92], line 2\u001b[0m\n\u001b[1;32m      1\u001b[0m text \u001b[38;5;241m=\u001b[39m \u001b[38;5;124m\"\u001b[39m\u001b[38;5;124mHello, do you like tea?\u001b[39m\u001b[38;5;124m\"\u001b[39m\n\u001b[0;32m----> 2\u001b[0m \u001b[38;5;28mprint\u001b[39m(\u001b[43mtokenizer\u001b[49m\u001b[38;5;241;43m.\u001b[39;49m\u001b[43mencode\u001b[49m\u001b[43m(\u001b[49m\u001b[43mtext\u001b[49m\u001b[43m)\u001b[49m)\n",
            "Cell \u001b[0;32mIn[89], line 12\u001b[0m, in \u001b[0;36mSimpleTokenizerV1.encode\u001b[0;34m(self, text)\u001b[0m\n\u001b[1;32m      7\u001b[0m preprocessed \u001b[38;5;241m=\u001b[39m re\u001b[38;5;241m.\u001b[39msplit(\u001b[38;5;124mr\u001b[39m\u001b[38;5;124m'\u001b[39m\u001b[38;5;124m([,.:;?_!\u001b[39m\u001b[38;5;124m\"\u001b[39m\u001b[38;5;124m()\u001b[39m\u001b[38;5;130;01m\\'\u001b[39;00m\u001b[38;5;124m]|--|\u001b[39m\u001b[38;5;124m\\\u001b[39m\u001b[38;5;124ms)\u001b[39m\u001b[38;5;124m'\u001b[39m, text)\n\u001b[1;32m      9\u001b[0m preprocessed \u001b[38;5;241m=\u001b[39m [\n\u001b[1;32m     10\u001b[0m     item\u001b[38;5;241m.\u001b[39mstrip() \u001b[38;5;28;01mfor\u001b[39;00m item \u001b[38;5;129;01min\u001b[39;00m preprocessed \u001b[38;5;28;01mif\u001b[39;00m item\u001b[38;5;241m.\u001b[39mstrip()\n\u001b[1;32m     11\u001b[0m ]\n\u001b[0;32m---> 12\u001b[0m ids \u001b[38;5;241m=\u001b[39m [\u001b[38;5;28;43mself\u001b[39;49m\u001b[38;5;241;43m.\u001b[39;49m\u001b[43mstr_to_int\u001b[49m\u001b[43m[\u001b[49m\u001b[43ms\u001b[49m\u001b[43m]\u001b[49m \u001b[38;5;28;01mfor\u001b[39;00m s \u001b[38;5;129;01min\u001b[39;00m preprocessed]\n\u001b[1;32m     13\u001b[0m \u001b[38;5;28;01mreturn\u001b[39;00m ids\n",
            "\u001b[0;31mKeyError\u001b[0m: 'Hello'"
          ]
        }
      ],
      "source": [
        "text = \"Hello, do you like tea?\"\n",
        "print(tokenizer.encode(text))"
      ]
    },
    {
      "cell_type": "markdown",
      "metadata": {
        "id": "mHqAyGZfey6x"
      },
      "source": [
        "<div class=\"alert alert-block alert-info\">\n",
        "    \n",
        "The problem is that the word \"Hello\" was not used in the The Verdict short story.\n",
        "\n",
        "Hence, it\n",
        "is not contained in the vocabulary.\n",
        "\n",
        "This highlights the need to consider large and diverse\n",
        "training sets to extend the vocabulary when working on LLMs.\n",
        "\n",
        "</div>"
      ]
    },
    {
      "cell_type": "markdown",
      "metadata": {
        "id": "goa2Cnzyey6y"
      },
      "source": [
        "### ADDING SPECIAL CONTEXT TOKENS\n",
        "\n",
        "In the previous section, we implemented a simple tokenizer and applied it to a passage\n",
        "from the training set.\n",
        "\n",
        "In this section, we will modify this tokenizer to handle unknown\n",
        "words.\n",
        "\n",
        "\n",
        "In particular, we will modify the vocabulary and tokenizer we implemented in the\n",
        "previous section, SimpleTokenizerV2, to support two new tokens, <|unk|> and\n",
        "<|endoftext|>"
      ]
    },
    {
      "cell_type": "markdown",
      "metadata": {
        "id": "EJzCbyOaey6y"
      },
      "source": [
        "<div class=\"alert alert-block alert-warning\">\n",
        "\n",
        "We can modify the tokenizer to use an <|unk|> token if it\n",
        "encounters a word that is not part of the vocabulary.\n",
        "\n",
        "Furthermore, we add a token between\n",
        "unrelated texts.\n",
        "\n",
        "For example, when training GPT-like LLMs on multiple independent\n",
        "documents or books, it is common to insert a token before each document or book that\n",
        "follows a previous text source\n",
        "\n",
        "</div>\n",
        "\n"
      ]
    },
    {
      "cell_type": "markdown",
      "metadata": {
        "id": "pp_drWnRey6y"
      },
      "source": [
        "<div class=\"alert alert-block alert-success\">\n",
        "\n",
        "Let's now modify the vocabulary to include these two special tokens, <unk> and\n",
        "<|endoftext|>, by adding these to the list of all unique words that we created in the\n",
        "previous section:\n",
        "</div>"
      ]
    },
    {
      "cell_type": "code",
      "execution_count": null,
      "metadata": {
        "id": "pVT_ITirey6y"
      },
      "outputs": [],
      "source": [
        "all_tokens = sorted(list(set(preprocessed)))\n",
        "all_tokens.extend([\"<|endoftext|>\", \"<|unk|>\"])\n",
        "\n",
        "vocab = {token:integer for integer,token in enumerate(all_tokens)}"
      ]
    },
    {
      "cell_type": "code",
      "execution_count": null,
      "metadata": {
        "id": "5rjtTeRwey6y",
        "outputId": "b0f0ef50-c476-4d5e-ba92-26413b1e3acc"
      },
      "outputs": [
        {
          "data": {
            "text/plain": [
              "1132"
            ]
          },
          "execution_count": 69,
          "metadata": {},
          "output_type": "execute_result"
        }
      ],
      "source": [
        "len(vocab.items())\n"
      ]
    },
    {
      "cell_type": "markdown",
      "metadata": {
        "id": "oXWB8yNWey6y"
      },
      "source": [
        "<div class=\"alert alert-block alert-info\">\n",
        "    \n",
        "Based on the output of the print statement above, the new vocabulary size is 1132 (the\n",
        "vocabulary size in the previous section was 1130).\n",
        "\n",
        "</div>\n",
        "\n"
      ]
    },
    {
      "cell_type": "markdown",
      "metadata": {
        "id": "gRBZ_u4sey6y"
      },
      "source": [
        "<div class=\"alert alert-block alert-success\">\n",
        "\n",
        "As an additional quick check, let's print the last 5 entries of the updated vocabulary:\n",
        "</div>"
      ]
    },
    {
      "cell_type": "code",
      "execution_count": null,
      "metadata": {
        "id": "1dqvqAmSey6y",
        "outputId": "8410a853-6024-4d2a-bcca-1d1b9dc93cb8"
      },
      "outputs": [
        {
          "name": "stdout",
          "output_type": "stream",
          "text": [
            "('younger', 1127)\n",
            "('your', 1128)\n",
            "('yourself', 1129)\n",
            "('<|endoftext|>', 1130)\n",
            "('<|unk|>', 1131)\n"
          ]
        }
      ],
      "source": [
        "for i, item in enumerate(list(vocab.items())[-5:]):\n",
        "    print(item)"
      ]
    },
    {
      "cell_type": "markdown",
      "metadata": {
        "id": "8g5Y7JE7ey6y"
      },
      "source": [
        "<div class=\"alert alert-block alert-success\">\n",
        "\n",
        "A simple text tokenizer that handles unknown words</div>\n",
        "\n"
      ]
    },
    {
      "cell_type": "markdown",
      "metadata": {
        "id": "Xb5124Nmey6y"
      },
      "source": [
        "<div class=\"alert alert-block alert-info\">\n",
        "    \n",
        "Step 1: Replace unknown words by <|unk|> tokens\n",
        "    \n",
        "Step 2: Replace spaces before the specified punctuations\n",
        "\n",
        "</div>\n"
      ]
    },
    {
      "cell_type": "code",
      "execution_count": null,
      "metadata": {
        "id": "VFmDQj0xey6y"
      },
      "outputs": [],
      "source": [
        "class SimpleTokenizerV2:\n",
        "    def __init__(self, vocab):\n",
        "        self.str_to_int = vocab\n",
        "        self.int_to_str = { i:s for s,i in vocab.items()}\n",
        "\n",
        "    def encode(self, text):\n",
        "        preprocessed = re.split(r'([,.:;?_!\"()\\']|--|\\s)', text)\n",
        "        preprocessed = [item.strip() for item in preprocessed if item.strip()]\n",
        "        preprocessed = [\n",
        "            item if item in self.str_to_int\n",
        "            else \"<|unk|>\" for item in preprocessed\n",
        "        ]\n",
        "\n",
        "        ids = [self.str_to_int[s] for s in preprocessed]\n",
        "        return ids\n",
        "\n",
        "    def decode(self, ids):\n",
        "        text = \" \".join([self.int_to_str[i] for i in ids])\n",
        "        # Replace spaces before the specified punctuations\n",
        "        text = re.sub(r'\\s+([,.:;?!\"()\\'])', r'\\1', text)\n",
        "        return text"
      ]
    },
    {
      "cell_type": "code",
      "execution_count": null,
      "metadata": {
        "id": "rm4qZqSTey6z",
        "outputId": "de9a82dc-684f-4b3d-df8d-ecb935acf01d"
      },
      "outputs": [
        {
          "name": "stdout",
          "output_type": "stream",
          "text": [
            "Hello, do you like tea? <|endoftext|> In the sunlit terraces of the palace.\n"
          ]
        }
      ],
      "source": [
        "tokenizer = SimpleTokenizerV2(vocab)\n",
        "\n",
        "text1 = \"Hello, do you like tea?\"\n",
        "text2 = \"In the sunlit terraces of the palace.\"\n",
        "\n",
        "text = \" <|endoftext|> \".join((text1, text2))\n",
        "\n",
        "print(text)"
      ]
    },
    {
      "cell_type": "code",
      "execution_count": null,
      "metadata": {
        "id": "hnbZHXkQey6z",
        "outputId": "a6e897e6-0a49-495e-bfe0-3bf7683411ee"
      },
      "outputs": [
        {
          "data": {
            "text/plain": [
              "[1131, 5, 355, 1126, 628, 975, 10, 1130, 55, 988, 956, 984, 722, 988, 1131, 7]"
            ]
          },
          "execution_count": 73,
          "metadata": {},
          "output_type": "execute_result"
        }
      ],
      "source": [
        "tokenizer.encode(text)\n"
      ]
    },
    {
      "cell_type": "code",
      "execution_count": null,
      "metadata": {
        "id": "0HJnvwCLey6z",
        "outputId": "dd249bd8-e7c5-4e3f-fe2c-b1b24d250ca8"
      },
      "outputs": [
        {
          "data": {
            "text/plain": [
              "'<|unk|>, do you like tea? <|endoftext|> In the sunlit terraces of the <|unk|>.'"
            ]
          },
          "execution_count": 74,
          "metadata": {},
          "output_type": "execute_result"
        }
      ],
      "source": [
        "tokenizer.decode(tokenizer.encode(text))"
      ]
    },
    {
      "cell_type": "markdown",
      "metadata": {
        "id": "pxgUyHhvey6z"
      },
      "source": [
        "\n",
        "<div class=\"alert alert-block alert-info\">\n",
        "    \n",
        "Based on comparing the de-tokenized text above with the original input text, we know that\n",
        "the training dataset, Edith Wharton's short story The Verdict, did not contain the words\n",
        "\"Hello\" and \"palace.\"\n",
        "\n",
        "</div>\n"
      ]
    },
    {
      "cell_type": "markdown",
      "metadata": {
        "id": "qLa0f5kQey6z"
      },
      "source": [
        "<div class=\"alert alert-block alert-warning\">\n",
        "\n",
        "So far, we have discussed tokenization as an essential step in processing text as input to\n",
        "LLMs. Depending on the LLM, some researchers also consider additional special tokens such\n",
        "as the following:\n",
        "\n",
        "[BOS] (beginning of sequence): This token marks the start of a text. It\n",
        "signifies to the LLM where a piece of content begins.\n",
        "\n",
        "[EOS] (end of sequence): This token is positioned at the end of a text,\n",
        "and is especially useful when concatenating multiple unrelated texts,\n",
        "similar to <|endoftext|>. For instance, when combining two different\n",
        "Wikipedia articles or books, the [EOS] token indicates where one article\n",
        "ends and the next one begins.\n",
        "\n",
        "[PAD] (padding): When training LLMs with batch sizes larger than one,\n",
        "the batch might contain texts of varying lengths. To ensure all texts have\n",
        "the same length, the shorter texts are extended or \"padded\" using the\n",
        "[PAD] token, up to the length of the longest text in the batch.\n",
        "\n",
        "</div>\n"
      ]
    },
    {
      "cell_type": "markdown",
      "metadata": {
        "id": "aJIERA0Uey60"
      },
      "source": [
        "<div class=\"alert alert-block alert-warning\">\n",
        "\n",
        "Note that the tokenizer used for GPT models does not need any of these tokens mentioned\n",
        "above but only uses an <|endoftext|> token for simplicity\n",
        "\n",
        "</div>"
      ]
    },
    {
      "cell_type": "markdown",
      "metadata": {
        "id": "K-u0oryley60"
      },
      "source": [
        "<div class=\"alert alert-block alert-warning\">\n",
        "\n",
        "the tokenizer used for GPT models also doesn't use an <|unk|> token for outof-vocabulary words. Instead, GPT models use a byte pair encoding tokenizer, which breaks\n",
        "down words into subword units\n",
        "</div>"
      ]
    },
    {
      "cell_type": "markdown",
      "metadata": {
        "id": "jdG18cyKey60"
      },
      "source": [
        "### BYTE PAIR ENCODING (BPE)\n"
      ]
    },
    {
      "cell_type": "markdown",
      "metadata": {
        "id": "o1evuusqey60"
      },
      "source": [
        "<div class=\"alert alert-block alert-success\">\n",
        "\n",
        "We implemented a simple tokenization scheme in the previous sections for illustration\n",
        "purposes.\n",
        "\n",
        "This section covers a more sophisticated tokenization scheme based on a concept\n",
        "called byte pair encoding (BPE).\n",
        "\n",
        "The BPE tokenizer covered in this section was used to train\n",
        "LLMs such as GPT-2, GPT-3, and the original model used in ChatGPT.</div>"
      ]
    },
    {
      "cell_type": "markdown",
      "metadata": {
        "id": "KKR7SV0Hey60"
      },
      "source": [
        "<div class=\"alert alert-block alert-warning\">\n",
        "\n",
        "Since implementing BPE can be relatively complicated, we will use an existing Python\n",
        "open-source library called tiktoken (https://github.com/openai/tiktoken).\n",
        "\n",
        "This library implements\n",
        "the BPE algorithm very efficiently based on source code in Rust.\n",
        "</div>"
      ]
    },
    {
      "cell_type": "code",
      "execution_count": null,
      "metadata": {
        "id": "0nR8EpTjey60",
        "outputId": "acd377e7-ccd3-429b-eea4-32b0e97e0449"
      },
      "outputs": [
        {
          "name": "stdout",
          "output_type": "stream",
          "text": [
            "Requirement already satisfied: tiktoken in /Library/Frameworks/Python.framework/Versions/3.12/lib/python3.12/site-packages (0.6.0)\n",
            "Requirement already satisfied: regex>=2022.1.18 in /Library/Frameworks/Python.framework/Versions/3.12/lib/python3.12/site-packages (from tiktoken) (2024.4.28)\n",
            "Requirement already satisfied: requests>=2.26.0 in /Library/Frameworks/Python.framework/Versions/3.12/lib/python3.12/site-packages (from tiktoken) (2.31.0)\n",
            "Requirement already satisfied: charset-normalizer<4,>=2 in /Library/Frameworks/Python.framework/Versions/3.12/lib/python3.12/site-packages (from requests>=2.26.0->tiktoken) (3.3.2)\n",
            "Requirement already satisfied: idna<4,>=2.5 in /Library/Frameworks/Python.framework/Versions/3.12/lib/python3.12/site-packages (from requests>=2.26.0->tiktoken) (3.6)\n",
            "Requirement already satisfied: urllib3<3,>=1.21.1 in /Library/Frameworks/Python.framework/Versions/3.12/lib/python3.12/site-packages (from requests>=2.26.0->tiktoken) (2.2.1)\n",
            "Requirement already satisfied: certifi>=2017.4.17 in /Library/Frameworks/Python.framework/Versions/3.12/lib/python3.12/site-packages (from requests>=2.26.0->tiktoken) (2024.2.2)\n",
            "\n",
            "\u001b[1m[\u001b[0m\u001b[34;49mnotice\u001b[0m\u001b[1;39;49m]\u001b[0m\u001b[39;49m A new release of pip is available: \u001b[0m\u001b[31;49m24.0\u001b[0m\u001b[39;49m -> \u001b[0m\u001b[32;49m24.2\u001b[0m\n",
            "\u001b[1m[\u001b[0m\u001b[34;49mnotice\u001b[0m\u001b[1;39;49m]\u001b[0m\u001b[39;49m To update, run: \u001b[0m\u001b[32;49mpip3 install --upgrade pip\u001b[0m\n"
          ]
        }
      ],
      "source": [
        "! pip3 install tiktoken"
      ]
    },
    {
      "cell_type": "code",
      "execution_count": null,
      "metadata": {
        "id": "Zndq7gJWey60",
        "outputId": "358ad4cd-d42b-4df1-fb58-cb8f3ead69b0"
      },
      "outputs": [
        {
          "name": "stdout",
          "output_type": "stream",
          "text": [
            "tiktoken version: 0.6.0\n"
          ]
        }
      ],
      "source": [
        "import importlib\n",
        "import tiktoken\n",
        "\n",
        "print(\"tiktoken version:\", importlib.metadata.version(\"tiktoken\"))"
      ]
    },
    {
      "cell_type": "markdown",
      "metadata": {
        "id": "RbaMwjliey60"
      },
      "source": [
        "<div class=\"alert alert-block alert-success\">\n",
        "Once installed, we can instantiate the BPE tokenizer from tiktoken as follows:</div>\n"
      ]
    },
    {
      "cell_type": "code",
      "execution_count": null,
      "metadata": {
        "id": "K8uOP0dley60"
      },
      "outputs": [],
      "source": [
        "tokenizer = tiktoken.get_encoding(\"gpt2\")"
      ]
    },
    {
      "cell_type": "markdown",
      "metadata": {
        "id": "HqdT5gISey60"
      },
      "source": [
        "<div class=\"alert alert-block alert-success\">\n",
        "The usage of this tokenizer is similar to SimpleTokenizerV2 we implemented previously via\n",
        "an encode method:</div>\n",
        "\n"
      ]
    },
    {
      "cell_type": "code",
      "execution_count": null,
      "metadata": {
        "id": "nPCxlID8ey61",
        "outputId": "1de16370-7597-4739-9aa5-f689b7884bf7"
      },
      "outputs": [
        {
          "name": "stdout",
          "output_type": "stream",
          "text": [
            "[15496, 11, 466, 345, 588, 8887, 30, 220, 50256, 554, 262, 4252, 18250, 8812, 2114, 1659, 617, 34680, 27271, 13]\n"
          ]
        }
      ],
      "source": [
        "text = (\n",
        "    \"Hello, do you like tea? <|endoftext|> In the sunlit terraces\"\n",
        "     \"of someunknownPlace.\"\n",
        ")\n",
        "\n",
        "integers = tokenizer.encode(text, allowed_special={\"<|endoftext|>\"})\n",
        "\n",
        "print(integers)"
      ]
    },
    {
      "cell_type": "markdown",
      "metadata": {
        "id": "lqL9yP_gey61"
      },
      "source": [
        "<div class=\"alert alert-block alert-info\">\n",
        "    \n",
        "The code above prints the following token IDs:\n",
        "\n",
        "</div>"
      ]
    },
    {
      "cell_type": "markdown",
      "metadata": {
        "id": "avW1DdYHey61"
      },
      "source": [
        "<div class=\"alert alert-block alert-success\">\n",
        "We can then convert the token IDs back into text using the decode method, similar to our\n",
        "SimpleTokenizerV2 earlier:</div>\n"
      ]
    },
    {
      "cell_type": "code",
      "execution_count": null,
      "metadata": {
        "id": "43jmu3fsey61",
        "outputId": "6244b6e2-16ea-464e-b440-6cffc9bf5245"
      },
      "outputs": [
        {
          "name": "stdout",
          "output_type": "stream",
          "text": [
            "Hello, do you like tea? <|endoftext|> In the sunlit terracesof someunknownPlace.\n"
          ]
        }
      ],
      "source": [
        "strings = tokenizer.decode(integers)\n",
        "\n",
        "print(strings)"
      ]
    },
    {
      "cell_type": "markdown",
      "metadata": {
        "id": "34RCJOqpey62"
      },
      "source": [
        "<div class=\"alert alert-block alert-warning\">\n",
        "\n",
        "We can make two noteworthy observations based on the token IDs and decoded text\n",
        "above.\n",
        "\n",
        "First, the <|endoftext|> token is assigned a relatively large token ID, namely,\n",
        "50256.\n",
        "\n",
        "In fact, the BPE tokenizer, which was used to train models such as GPT-2, GPT-3,\n",
        "and the original model used in ChatGPT, has a total vocabulary size of 50,257, with\n",
        "<|endoftext|> being assigned the largest token ID.\n",
        "    \n",
        "\n",
        "\n",
        "</div>"
      ]
    },
    {
      "cell_type": "markdown",
      "metadata": {
        "id": "mIVGdWSpey62"
      },
      "source": [
        "<div class=\"alert alert-block alert-warning\">\n",
        "\n",
        "Second, the BPE tokenizer above encodes and decodes unknown words, such as\n",
        "\"someunknownPlace\" correctly.\n",
        "\n",
        "The BPE tokenizer can handle any unknown word. How does\n",
        "it achieve this without using <|unk|> tokens?\n",
        "    \n",
        "\n",
        "\n",
        "</div>"
      ]
    },
    {
      "cell_type": "markdown",
      "metadata": {
        "id": "-uYDa6ltey62"
      },
      "source": [
        "<div class=\"alert alert-block alert-warning\">\n",
        "\n",
        "The algorithm underlying BPE breaks down words that aren't in its predefined vocabulary\n",
        "into smaller subword units or even individual characters.\n",
        "\n",
        "The enables it to handle out-ofvocabulary words.\n",
        "\n",
        "So, thanks to the BPE algorithm, if the tokenizer encounters an\n",
        "unfamiliar word during tokenization, it can represent it as a sequence of subword tokens or\n",
        "characters\n",
        "    \n",
        "\n",
        "\n",
        "</div>"
      ]
    },
    {
      "cell_type": "markdown",
      "metadata": {
        "id": "ySz8thILey62"
      },
      "source": [
        "**Let us take another simple example to illustrate how the BPE tokenizer deals with unknown tokens**"
      ]
    },
    {
      "cell_type": "code",
      "execution_count": null,
      "metadata": {
        "id": "z7UQn3Jaey62",
        "outputId": "e76c1fb6-58f8-4f97-ec05-668ed4552503"
      },
      "outputs": [
        {
          "name": "stdout",
          "output_type": "stream",
          "text": [
            "[33901, 86, 343, 86, 220, 959]\n",
            "Akwirw ier\n"
          ]
        }
      ],
      "source": [
        "integers = tokenizer.encode(\"Akwirw ier\")\n",
        "print(integers)\n",
        "\n",
        "strings = tokenizer.decode(integers)\n",
        "print(strings)"
      ]
    },
    {
      "cell_type": "markdown",
      "metadata": {
        "id": "yZWF_2HUey62"
      },
      "source": [
        "### CREATING INPUT-TARGET PAIRS"
      ]
    },
    {
      "cell_type": "markdown",
      "metadata": {
        "id": "coVYrLuUey62"
      },
      "source": [
        "<div class=\"alert alert-block alert-success\">\n",
        "In this section we implement a data loader that fetches the input-target pairs using a sliding window approach.</div>"
      ]
    },
    {
      "cell_type": "markdown",
      "metadata": {
        "id": "w0-1Mdxbey62"
      },
      "source": [
        "<div class=\"alert alert-block alert-success\">\n",
        "To get started, we will first tokenize the whole The Verdict short story we worked with\n",
        "earlier using the BPE tokenizer introduced in the previous section:</div>\n",
        "\n"
      ]
    },
    {
      "cell_type": "code",
      "execution_count": null,
      "metadata": {
        "id": "Eu3XN2jXey63",
        "outputId": "4c8390ce-bf59-4a88-8470-b27d7dcec7ee"
      },
      "outputs": [
        {
          "name": "stdout",
          "output_type": "stream",
          "text": [
            "5145\n"
          ]
        }
      ],
      "source": [
        "with open(\"the-verdict.txt\", \"r\", encoding=\"utf-8\") as f:\n",
        "    raw_text = f.read()\n",
        "\n",
        "enc_text = tokenizer.encode(raw_text)\n",
        "print(len(enc_text))"
      ]
    },
    {
      "cell_type": "markdown",
      "metadata": {
        "id": "4S8vnr9Eey63"
      },
      "source": [
        "<div class=\"alert alert-block alert-info\">\n",
        "    \n",
        "Executing the code above will return 5145, the total number of tokens in the training set,\n",
        "after applying the BPE tokenizer.\n",
        "\n",
        "</div>"
      ]
    },
    {
      "cell_type": "markdown",
      "metadata": {
        "id": "J0Xc0m1mey63"
      },
      "source": [
        "<div class=\"alert alert-block alert-success\">\n",
        "Next, we remove the first 50 tokens from the dataset for demonstration purposes as it\n",
        "results in a slightly more interesting text passage in the next steps:</div>"
      ]
    },
    {
      "cell_type": "code",
      "execution_count": null,
      "metadata": {
        "id": "FkAB6uPsey63"
      },
      "outputs": [],
      "source": [
        "enc_sample = enc_text[50:]\n"
      ]
    },
    {
      "cell_type": "markdown",
      "metadata": {
        "id": "Sn9AknNvey63"
      },
      "source": [
        "<div class=\"alert alert-block alert-success\">\n",
        "One of the easiest and most intuitive ways to create the input-target pairs for the nextword prediction task is to create two variables, x and y, where x contains the input tokens\n",
        "and y contains the targets, which are the inputs shifted by 1:</div>"
      ]
    },
    {
      "cell_type": "markdown",
      "metadata": {
        "id": "HbsPCXL8ey63"
      },
      "source": [
        "<div class=\"alert alert-block alert-info\">\n",
        "The context size determines how many tokens are included in the input\n",
        "\n",
        "</div>\n",
        "\n"
      ]
    },
    {
      "cell_type": "code",
      "execution_count": null,
      "metadata": {
        "id": "xGOtu2FAey63",
        "outputId": "2b6b42f4-b89b-4ca3-b59c-017edfac3258"
      },
      "outputs": [
        {
          "name": "stdout",
          "output_type": "stream",
          "text": [
            "x: [290, 4920, 2241, 287]\n",
            "y:      [4920, 2241, 287, 257]\n"
          ]
        }
      ],
      "source": [
        "context_size = 4 #length of the input\n",
        "#The context_size of 4 means that the model is trained to look at a sequence of 4 words (or tokens)\n",
        "#to predict the next word in the sequence.\n",
        "#The input x is the first 4 tokens [1, 2, 3, 4], and the target y is the next 4 tokens [2, 3, 4, 5]\n",
        "\n",
        "x = enc_sample[:context_size]\n",
        "y = enc_sample[1:context_size+1]\n",
        "\n",
        "print(f\"x: {x}\")\n",
        "print(f\"y:      {y}\")"
      ]
    },
    {
      "cell_type": "markdown",
      "metadata": {
        "id": "t-EQnYg8ey64"
      },
      "source": [
        "<div class=\"alert alert-block alert-success\">\n",
        "Processing the inputs along with the targets, which are the inputs shifted by one position,\n",
        "we can then create the next-word prediction tasks as\n",
        "follows:</div>"
      ]
    },
    {
      "cell_type": "code",
      "execution_count": null,
      "metadata": {
        "id": "YL5EaAl2ey64",
        "outputId": "24d38b3a-b3db-4802-d747-41246f6eadc9"
      },
      "outputs": [
        {
          "name": "stdout",
          "output_type": "stream",
          "text": [
            "[290] ----> 4920\n",
            "[290, 4920] ----> 2241\n",
            "[290, 4920, 2241] ----> 287\n",
            "[290, 4920, 2241, 287] ----> 257\n"
          ]
        }
      ],
      "source": [
        "for i in range(1, context_size+1):\n",
        "    context = enc_sample[:i]\n",
        "    desired = enc_sample[i]\n",
        "\n",
        "    print(context, \"---->\", desired)"
      ]
    },
    {
      "cell_type": "markdown",
      "metadata": {
        "id": "2ahz4IRkey64"
      },
      "source": [
        "<div class=\"alert alert-block alert-info\">\n",
        "Everything left of the arrow (---->) refers to the input an LLM would receive, and the token\n",
        "ID on the right side of the arrow represents the target token ID that the LLM is supposed to\n",
        "predict.\n",
        "</div>"
      ]
    },
    {
      "cell_type": "markdown",
      "metadata": {
        "id": "3_GJLwChey64"
      },
      "source": [
        "<div class=\"alert alert-block alert-success\">\n",
        "For illustration purposes, let's repeat the previous code but convert the token IDs into\n",
        "text:</div>"
      ]
    },
    {
      "cell_type": "code",
      "execution_count": null,
      "metadata": {
        "id": "r444Mszney64",
        "outputId": "0df63923-838d-4874-8b0f-7b294520194d"
      },
      "outputs": [
        {
          "name": "stdout",
          "output_type": "stream",
          "text": [
            " and ---->  established\n",
            " and established ---->  himself\n",
            " and established himself ---->  in\n",
            " and established himself in ---->  a\n"
          ]
        }
      ],
      "source": [
        "for i in range(1, context_size+1):\n",
        "    context = enc_sample[:i]\n",
        "    desired = enc_sample[i]\n",
        "\n",
        "    print(tokenizer.decode(context), \"---->\", tokenizer.decode([desired]))"
      ]
    },
    {
      "cell_type": "markdown",
      "metadata": {
        "id": "ie-jYpWkey64"
      },
      "source": [
        "<div class=\"alert alert-block alert-warning\">\n",
        "\n",
        "We've now created the input-target pairs that we can turn into use for the LLM training in\n",
        "upcoming chapters.\n",
        "    \n",
        "</div>"
      ]
    },
    {
      "cell_type": "markdown",
      "metadata": {
        "id": "njBCkhmaey64"
      },
      "source": [
        "<div class=\"alert alert-block alert-warning\">\n",
        "\n",
        "There's only one more task before we can turn the tokens into embeddings:implementing an efficient data loader that\n",
        "iterates over the input dataset and returns the inputs and targets as PyTorch tensors, which\n",
        "can be thought of as multidimensional arrays.\n",
        "    \n",
        "</div>"
      ]
    },
    {
      "cell_type": "markdown",
      "metadata": {
        "id": "bgHAGx-oey65"
      },
      "source": [
        "<div class=\"alert alert-block alert-warning\">\n",
        "\n",
        "In particular, we are interested in returning two tensors: an input tensor containing the\n",
        "text that the LLM sees and a target tensor that includes the targets for the LLM to predict,\n",
        "    \n",
        "</div>"
      ]
    },
    {
      "cell_type": "markdown",
      "metadata": {
        "id": "TASUGMnMey65"
      },
      "source": [
        "### IMPLEMENTING A DATA LOADER"
      ]
    },
    {
      "cell_type": "markdown",
      "metadata": {
        "id": "pfvIdHbRey65"
      },
      "source": [
        "<div class=\"alert alert-block alert-success\">\n",
        "For the efficient data loader implementation, we will use PyTorch's built-in Dataset and\n",
        "DataLoader classes.</div>"
      ]
    },
    {
      "cell_type": "markdown",
      "metadata": {
        "id": "fGbBXdeney65"
      },
      "source": [
        "<div class=\"alert alert-block alert-info\">\n",
        "    \n",
        "Step 1: Tokenize the entire text\n",
        "    \n",
        "Step 2: Use a sliding window to chunk the book into overlapping sequences of max_length\n",
        "\n",
        "Step 3: Return the total number of rows in the dataset\n",
        "\n",
        "Step 4: Return a single row from the dataset\n",
        "</div>"
      ]
    },
    {
      "cell_type": "code",
      "execution_count": null,
      "metadata": {
        "id": "edeL3vUley65"
      },
      "outputs": [],
      "source": [
        "from torch.utils.data import Dataset, DataLoader\n",
        "\n",
        "\n",
        "class GPTDatasetV1(Dataset):\n",
        "    def __init__(self, txt, tokenizer, max_length, stride):\n",
        "        self.input_ids = []\n",
        "        self.target_ids = []\n",
        "\n",
        "        # Tokenize the entire text\n",
        "        token_ids = tokenizer.encode(txt, allowed_special={\"<|endoftext|>\"})\n",
        "\n",
        "        # Use a sliding window to chunk the book into overlapping sequences of max_length\n",
        "        for i in range(0, len(token_ids) - max_length, stride):\n",
        "            input_chunk = token_ids[i:i + max_length]\n",
        "            target_chunk = token_ids[i + 1: i + max_length + 1]\n",
        "            self.input_ids.append(torch.tensor(input_chunk))\n",
        "            self.target_ids.append(torch.tensor(target_chunk))\n",
        "\n",
        "    def __len__(self):\n",
        "        return len(self.input_ids)\n",
        "\n",
        "    def __getitem__(self, idx):\n",
        "        return self.input_ids[idx], self.target_ids[idx]"
      ]
    },
    {
      "cell_type": "markdown",
      "metadata": {
        "id": "J6KxH-Piey65"
      },
      "source": [
        "<div class=\"alert alert-block alert-warning\">\n",
        "\n",
        "The GPTDatasetV1 class in listing 2.5 is based on the PyTorch Dataset class.\n",
        "\n",
        "It defines how individual rows are fetched from the dataset.\n",
        "\n",
        "Each row consists of a number of\n",
        "token IDs (based on a max_length) assigned to an input_chunk tensor.\n",
        "\n",
        "The target_chunk\n",
        "tensor contains the corresponding targets.\n",
        "\n",
        "I recommend reading on to see how the data\n",
        "returned from this dataset looks like when we combine the dataset with a PyTorch\n",
        "DataLoader -- this will bring additional intuition and clarity.\n",
        "    \n",
        "</div>"
      ]
    },
    {
      "cell_type": "markdown",
      "metadata": {
        "id": "ZkF0Z1j3ey65"
      },
      "source": [
        "<div class=\"alert alert-block alert-success\">\n",
        "The following code will use the GPTDatasetV1 to load the inputs in batches via a PyTorch\n",
        "DataLoader:</div>"
      ]
    },
    {
      "cell_type": "markdown",
      "metadata": {
        "id": "ZSKuzgGiey65"
      },
      "source": [
        "<div class=\"alert alert-block alert-info\">\n",
        "    \n",
        "Step 1: Initialize the tokenizer\n",
        "\n",
        "Step 2: Create dataset\n",
        "\n",
        "Step 3: drop_last=True drops the last batch if it is shorter than the specified batch_size to prevent loss spikes\n",
        "during training\n",
        "\n",
        "Step 4: The number of CPU processes to use for preprocessing\n",
        "    \n",
        "</div>"
      ]
    },
    {
      "cell_type": "code",
      "execution_count": null,
      "metadata": {
        "id": "RJDqVoycey65"
      },
      "outputs": [],
      "source": [
        "def create_dataloader_v1(txt, batch_size=4, max_length=256,\n",
        "                         stride=128, shuffle=True, drop_last=True,\n",
        "                         num_workers=0):\n",
        "\n",
        "    # Initialize the tokenizer\n",
        "    tokenizer = tiktoken.get_encoding(\"gpt2\")\n",
        "\n",
        "    # Create dataset\n",
        "    dataset = GPTDatasetV1(txt, tokenizer, max_length, stride)\n",
        "\n",
        "    # Create dataloader\n",
        "    dataloader = DataLoader(\n",
        "        dataset,\n",
        "        batch_size=batch_size,\n",
        "        shuffle=shuffle,\n",
        "        drop_last=drop_last,\n",
        "        num_workers=num_workers\n",
        "    )\n",
        "\n",
        "    return dataloader"
      ]
    },
    {
      "cell_type": "markdown",
      "metadata": {
        "id": "2sfavMWLey66"
      },
      "source": [
        "<div class=\"alert alert-block alert-success\">\n",
        "    \n",
        "Let's test the dataloader with a batch size of 1 for an LLM with a context size of 4,\n",
        "\n",
        "This will develop an intuition of how the GPTDatasetV1 class and the\n",
        "create_dataloader_v1 function work together: </div>"
      ]
    },
    {
      "cell_type": "code",
      "execution_count": null,
      "metadata": {
        "id": "IeBUS1Irey66"
      },
      "outputs": [],
      "source": [
        "with open(\"the-verdict.txt\", \"r\", encoding=\"utf-8\") as f:\n",
        "    raw_text = f.read()"
      ]
    },
    {
      "cell_type": "markdown",
      "metadata": {
        "id": "YSWCkec9ey66"
      },
      "source": [
        "<div class=\"alert alert-block alert-info\">\n",
        "    \n",
        "Convert dataloader into a Python iterator to fetch the next entry via Python's built-in next() function\n",
        "    \n",
        "</div>"
      ]
    },
    {
      "cell_type": "code",
      "execution_count": null,
      "metadata": {
        "id": "CFcCGI9Yey66",
        "outputId": "e84ec05a-1883-49e3-9721-9f6d2cc70897"
      },
      "outputs": [
        {
          "name": "stdout",
          "output_type": "stream",
          "text": [
            "PyTorch version: 2.3.0\n",
            "[tensor([[  40,  367, 2885, 1464]]), tensor([[ 367, 2885, 1464, 1807]])]\n"
          ]
        }
      ],
      "source": [
        "import torch\n",
        "print(\"PyTorch version:\", torch.__version__)\n",
        "dataloader = create_dataloader_v1(\n",
        "    raw_text, batch_size=1, max_length=4, stride=1, shuffle=False\n",
        ")\n",
        "\n",
        "data_iter = iter(dataloader)\n",
        "first_batch = next(data_iter)\n",
        "print(first_batch)"
      ]
    },
    {
      "cell_type": "markdown",
      "metadata": {
        "id": "8WTydH8Hey66"
      },
      "source": [
        "<div class=\"alert alert-block alert-warning\">\n",
        "\n",
        "The first_batch variable contains two tensors: the first tensor stores the input token IDs,\n",
        "and the second tensor stores the target token IDs.\n",
        "\n",
        "Since the max_length is set to 4, each of the two tensors contains 4 token IDs.\n",
        "\n",
        "Note that an input size of 4 is relatively small and only chosen for illustration purposes. It is common to train LLMs with input sizes of at least\n",
        "256.\n",
        "    \n",
        "</div>"
      ]
    },
    {
      "cell_type": "markdown",
      "metadata": {
        "id": "700w1o_Eey66"
      },
      "source": [
        "<div class=\"alert alert-block alert-success\">\n",
        "    \n",
        "To illustrate the meaning of stride=1, let's fetch another batch from this dataset: </div>"
      ]
    },
    {
      "cell_type": "code",
      "execution_count": null,
      "metadata": {
        "id": "tOD4mIXdey66",
        "outputId": "bdb93c96-ec13-418d-8793-6d665ed1dc98"
      },
      "outputs": [
        {
          "name": "stdout",
          "output_type": "stream",
          "text": [
            "[tensor([[ 367, 2885, 1464, 1807]]), tensor([[2885, 1464, 1807, 3619]])]\n"
          ]
        }
      ],
      "source": [
        "second_batch = next(data_iter)\n",
        "print(second_batch)"
      ]
    },
    {
      "cell_type": "markdown",
      "metadata": {
        "id": "GtHE03Umey66"
      },
      "source": [
        "<div class=\"alert alert-block alert-warning\">\n",
        "\n",
        "If we compare the first with the second batch, we can see that the second batch's token\n",
        "IDs are shifted by one position compared to the first batch.\n",
        "\n",
        "For example, the second ID in\n",
        "the first batch's input is 367, which is the first ID of the second batch's input.\n",
        "\n",
        "The stride\n",
        "setting dictates the number of positions the inputs shift across batches, emulating a sliding\n",
        "window approach\n",
        "    \n",
        "</div>"
      ]
    },
    {
      "cell_type": "markdown",
      "metadata": {
        "id": "190-tSSiey66"
      },
      "source": [
        "<div class=\"alert alert-block alert-warning\">\n",
        "\n",
        "Batch sizes of 1, such as we have sampled from the data loader so far, are useful for\n",
        "illustration purposes.\n",
        "                                                                                 \n",
        "If you have previous experience with deep learning, you may know\n",
        "that small batch sizes require less memory during training but lead to more noisy model\n",
        "updates.\n",
        "\n",
        "Just like in regular deep learning, the batch size is a trade-off and hyperparameter\n",
        "to experiment with when training LLMs.\n",
        "    \n",
        "</div>"
      ]
    },
    {
      "cell_type": "markdown",
      "metadata": {
        "id": "z4vbYDvzey66"
      },
      "source": [
        "<div class=\"alert alert-block alert-success\">\n",
        "    \n",
        "Before we move on to the two final sections of this chapter that are focused on creating\n",
        "the embedding vectors from the token IDs, let's have a brief look at how we can use the\n",
        "data loader to sample with a batch size greater than 1: </div>"
      ]
    },
    {
      "cell_type": "code",
      "execution_count": null,
      "metadata": {
        "id": "kd0GLzP_ey66",
        "outputId": "993dd0da-1d11-4caf-91cf-8741e5cae8ea"
      },
      "outputs": [
        {
          "name": "stdout",
          "output_type": "stream",
          "text": [
            "Inputs:\n",
            " tensor([[   40,   367,  2885,  1464],\n",
            "        [ 1807,  3619,   402,   271],\n",
            "        [10899,  2138,   257,  7026],\n",
            "        [15632,   438,  2016,   257],\n",
            "        [  922,  5891,  1576,   438],\n",
            "        [  568,   340,   373,   645],\n",
            "        [ 1049,  5975,   284,   502],\n",
            "        [  284,  3285,   326,    11]])\n",
            "\n",
            "Targets:\n",
            " tensor([[  367,  2885,  1464,  1807],\n",
            "        [ 3619,   402,   271, 10899],\n",
            "        [ 2138,   257,  7026, 15632],\n",
            "        [  438,  2016,   257,   922],\n",
            "        [ 5891,  1576,   438,   568],\n",
            "        [  340,   373,   645,  1049],\n",
            "        [ 5975,   284,   502,   284],\n",
            "        [ 3285,   326,    11,   287]])\n"
          ]
        }
      ],
      "source": [
        "dataloader = create_dataloader_v1(raw_text, batch_size=8, max_length=4, stride=4, shuffle=False)\n",
        "\n",
        "data_iter = iter(dataloader)\n",
        "inputs, targets = next(data_iter)\n",
        "print(\"Inputs:\\n\", inputs)\n",
        "print(\"\\nTargets:\\n\", targets)"
      ]
    },
    {
      "cell_type": "markdown",
      "metadata": {
        "id": "4mQKtD8Vey67"
      },
      "source": [
        "<div class=\"alert alert-block alert-info\">\n",
        "    \n",
        "Note that we increase the stride to 4. This is to utilize the data set fully (we don't skip a\n",
        "single word) but also avoid any overlap between the batches, since more overlap could lead\n",
        "to increased overfitting.\n",
        "    \n",
        "</div>"
      ]
    },
    {
      "cell_type": "markdown",
      "metadata": {
        "id": "bufNRrdWey67"
      },
      "source": [
        "### CREATING TOKEN EMBEDDINGS"
      ]
    },
    {
      "cell_type": "markdown",
      "metadata": {
        "id": "6xq3f0-Iey67"
      },
      "source": [
        "<div class=\"alert alert-block alert-success\">\n",
        "    \n",
        "Let's illustrate how the token ID to embedding vector conversion works with a hands-on\n",
        "example. Suppose we have the following four input tokens with IDs 2, 3, 5, and 1:</div>"
      ]
    },
    {
      "cell_type": "code",
      "execution_count": null,
      "metadata": {
        "id": "iLCn5HwCey67"
      },
      "outputs": [],
      "source": [
        "input_ids = torch.tensor([2, 3, 5, 1])\n"
      ]
    },
    {
      "cell_type": "markdown",
      "metadata": {
        "id": "mUgi-hW9ey67"
      },
      "source": [
        "<div class=\"alert alert-block alert-success\">\n",
        "    \n",
        "For the sake of simplicity and illustration purposes, suppose we have a small vocabulary of\n",
        "only 6 words (instead of the 50,257 words in the BPE tokenizer vocabulary), and we want\n",
        "to create embeddings of size 3 (in GPT-3, the embedding size is 12,288 dimensions):\n",
        "\n",
        "</div>"
      ]
    },
    {
      "cell_type": "markdown",
      "metadata": {
        "id": "rw-Sp-5key67"
      },
      "source": [
        "<div class=\"alert alert-block alert-success\">\n",
        "    \n",
        "Using the vocab_size and output_dim, we can instantiate an embedding layer in PyTorch,\n",
        "setting the random seed to 123 for reproducibility purposes:\n",
        "\n",
        "</div>"
      ]
    },
    {
      "cell_type": "code",
      "execution_count": null,
      "metadata": {
        "id": "Lh5gLo1uey67"
      },
      "outputs": [],
      "source": [
        "vocab_size = 6\n",
        "output_dim = 3\n",
        "\n",
        "torch.manual_seed(123)\n",
        "embedding_layer = torch.nn.Embedding(vocab_size, output_dim)"
      ]
    },
    {
      "cell_type": "markdown",
      "metadata": {
        "id": "8h2WF7Ezey67"
      },
      "source": [
        "<div class=\"alert alert-block alert-info\">\n",
        "    \n",
        "The print statement in the code prints the embedding layer's underlying\n",
        "weight matrix:\n",
        "    \n",
        "</div>"
      ]
    },
    {
      "cell_type": "code",
      "execution_count": null,
      "metadata": {
        "id": "PKeNlt6eey67",
        "outputId": "39c569ff-6f64-45b3-fd74-7733e6322086"
      },
      "outputs": [
        {
          "name": "stdout",
          "output_type": "stream",
          "text": [
            "Parameter containing:\n",
            "tensor([[ 0.3374, -0.1778, -0.1690],\n",
            "        [ 0.9178,  1.5810,  1.3010],\n",
            "        [ 1.2753, -0.2010, -0.1606],\n",
            "        [-0.4015,  0.9666, -1.1481],\n",
            "        [-1.1589,  0.3255, -0.6315],\n",
            "        [-2.8400, -0.7849, -1.4096]], requires_grad=True)\n"
          ]
        }
      ],
      "source": [
        "print(embedding_layer.weight)\n"
      ]
    },
    {
      "cell_type": "markdown",
      "metadata": {
        "id": "KDeH2nGZey67"
      },
      "source": [
        "<div class=\"alert alert-block alert-info\">\n",
        "    \n",
        "We can see that the weight matrix of the embedding layer contains small, random values.\n",
        "These values are optimized during LLM training as part of the LLM optimization itself, as we\n",
        "will see in upcoming chapters. Moreover, we can see that the weight matrix has six rows\n",
        "and three columns. There is one row for each of the six possible tokens in the vocabulary.\n",
        "And there is one column for each of the three embedding dimensions.\n",
        "    \n",
        "</div>"
      ]
    },
    {
      "cell_type": "markdown",
      "metadata": {
        "id": "WhbCmpwLey67"
      },
      "source": [
        "<div class=\"alert alert-block alert-success\">\n",
        "    \n",
        "After we instantiated the embedding layer, let's now apply it to a token ID to obtain the\n",
        "embedding vector:\n",
        "\n",
        "</div>"
      ]
    },
    {
      "cell_type": "code",
      "execution_count": null,
      "metadata": {
        "id": "7JvyehKSey67",
        "outputId": "d00a5a90-394c-43ba-eecb-b8d06a97f32c"
      },
      "outputs": [
        {
          "name": "stdout",
          "output_type": "stream",
          "text": [
            "tensor([[-0.4015,  0.9666, -1.1481]], grad_fn=<EmbeddingBackward0>)\n"
          ]
        }
      ],
      "source": [
        "print(embedding_layer(torch.tensor([3])))\n"
      ]
    },
    {
      "cell_type": "markdown",
      "metadata": {
        "id": "rrlTK-lAey68"
      },
      "source": [
        "<div class=\"alert alert-block alert-info\">\n",
        "    \n",
        "If we compare the embedding vector for token ID 3 to the previous embedding matrix, we\n",
        "see that it is identical to the 4th row (Python starts with a zero index, so it's the row\n",
        "corresponding to index 3). In other words, the embedding layer is essentially a look-up\n",
        "operation that retrieves rows from the embedding layer's weight matrix via a token ID.\n",
        "    \n",
        "</div>"
      ]
    },
    {
      "cell_type": "markdown",
      "metadata": {
        "id": "uGvX5PZ6ey68"
      },
      "source": [
        "<div class=\"alert alert-block alert-success\">\n",
        "    \n",
        "Previously, we have seen how to convert a single token ID into a three-dimensional\n",
        "embedding vector. Let's now apply that to all four input IDs we defined earlier\n",
        "(torch.tensor([2, 3, 5, 1])):\n",
        "\n",
        "</div>"
      ]
    },
    {
      "cell_type": "code",
      "execution_count": null,
      "metadata": {
        "id": "1sDtyQnyey68",
        "outputId": "65776202-e947-4611-fc79-e922cd678a99"
      },
      "outputs": [
        {
          "name": "stdout",
          "output_type": "stream",
          "text": [
            "tensor([[ 1.2753, -0.2010, -0.1606],\n",
            "        [-0.4015,  0.9666, -1.1481],\n",
            "        [-2.8400, -0.7849, -1.4096],\n",
            "        [ 0.9178,  1.5810,  1.3010]], grad_fn=<EmbeddingBackward0>)\n"
          ]
        }
      ],
      "source": [
        "print(embedding_layer(input_ids))\n"
      ]
    },
    {
      "cell_type": "markdown",
      "metadata": {
        "id": "62rygS3cey68"
      },
      "source": [
        "<div class=\"alert alert-block alert-info\">\n",
        "    \n",
        "Each row in this output matrix is obtained via a lookup operation from the embedding\n",
        "weight matrix\n",
        "    \n",
        "</div>"
      ]
    },
    {
      "cell_type": "markdown",
      "metadata": {
        "id": "g7j13IN8ey68"
      },
      "source": [
        "**POSITIONAL EMBEDDINGS (ENCODING WORD POSITIONS)**"
      ]
    },
    {
      "cell_type": "code",
      "execution_count": null,
      "metadata": {
        "id": "76XwV2sney68"
      },
      "outputs": [],
      "source": [
        "vocab_size = 50257\n",
        "output_dim = 256\n",
        "\n",
        "token_embedding_layer = torch.nn.Embedding(vocab_size, output_dim)"
      ]
    },
    {
      "cell_type": "code",
      "execution_count": null,
      "metadata": {
        "id": "NGh31fIuey68"
      },
      "outputs": [],
      "source": [
        "max_length = 4\n",
        "dataloader = create_dataloader_v1(\n",
        "    raw_text, batch_size=8, max_length=max_length,\n",
        "    stride=max_length, shuffle=False\n",
        ")\n",
        "data_iter = iter(dataloader)\n",
        "inputs, targets = next(data_iter)"
      ]
    },
    {
      "cell_type": "code",
      "execution_count": null,
      "metadata": {
        "id": "hTWyO5j1ey68",
        "outputId": "6ad9b3b8-2981-409b-eee0-080624115340"
      },
      "outputs": [
        {
          "name": "stdout",
          "output_type": "stream",
          "text": [
            "Token IDs:\n",
            " tensor([[   40,   367,  2885,  1464],\n",
            "        [ 1807,  3619,   402,   271],\n",
            "        [10899,  2138,   257,  7026],\n",
            "        [15632,   438,  2016,   257],\n",
            "        [  922,  5891,  1576,   438],\n",
            "        [  568,   340,   373,   645],\n",
            "        [ 1049,  5975,   284,   502],\n",
            "        [  284,  3285,   326,    11]])\n",
            "\n",
            "Inputs shape:\n",
            " torch.Size([8, 4])\n"
          ]
        }
      ],
      "source": [
        "print(\"Token IDs:\\n\", inputs)\n",
        "print(\"\\nInputs shape:\\n\", inputs.shape)"
      ]
    },
    {
      "cell_type": "code",
      "execution_count": null,
      "metadata": {
        "id": "W8RYw0Vrey68",
        "outputId": "3974fca5-83d1-44b7-ae68-dab3bd626253"
      },
      "outputs": [
        {
          "name": "stdout",
          "output_type": "stream",
          "text": [
            "torch.Size([8, 4, 256])\n"
          ]
        }
      ],
      "source": [
        "token_embeddings = token_embedding_layer(inputs)\n",
        "print(token_embeddings.shape)"
      ]
    },
    {
      "cell_type": "code",
      "execution_count": null,
      "metadata": {
        "id": "DX4AelVIey69"
      },
      "outputs": [],
      "source": [
        "context_length = max_length\n",
        "pos_embedding_layer = torch.nn.Embedding(context_length, output_dim)"
      ]
    },
    {
      "cell_type": "code",
      "execution_count": null,
      "metadata": {
        "id": "kBuCydxRey69",
        "outputId": "ef72455a-2192-4197-f9fd-8fe5cfc87ffc"
      },
      "outputs": [
        {
          "name": "stdout",
          "output_type": "stream",
          "text": [
            "torch.Size([4, 256])\n"
          ]
        }
      ],
      "source": [
        "pos_embeddings = pos_embedding_layer(torch.arange(max_length))\n",
        "print(pos_embeddings.shape)"
      ]
    },
    {
      "cell_type": "code",
      "execution_count": null,
      "metadata": {
        "id": "hLOmAtcwey69",
        "outputId": "60c8c842-6e62-43d7-c813-537f94c3e482"
      },
      "outputs": [
        {
          "name": "stdout",
          "output_type": "stream",
          "text": [
            "torch.Size([8, 4, 256])\n"
          ]
        }
      ],
      "source": [
        "input_embeddings = token_embeddings + pos_embeddings\n",
        "print(input_embeddings.shape)"
      ]
    },
    {
      "cell_type": "code",
      "execution_count": null,
      "metadata": {
        "id": "RGes0d3wey69"
      },
      "outputs": [],
      "source": []
    }
  ],
  "metadata": {
    "kernelspec": {
      "display_name": "Python 3 (ipykernel)",
      "language": "python",
      "name": "python3"
    },
    "language_info": {
      "codemirror_mode": {
        "name": "ipython",
        "version": 3
      },
      "file_extension": ".py",
      "mimetype": "text/x-python",
      "name": "python",
      "nbconvert_exporter": "python",
      "pygments_lexer": "ipython3",
      "version": "3.12.2"
    },
    "colab": {
      "provenance": [],
      "include_colab_link": true
    }
  },
  "nbformat": 4,
  "nbformat_minor": 0
}